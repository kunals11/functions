{
  "nbformat": 4,
  "nbformat_minor": 0,
  "metadata": {
    "colab": {
      "provenance": []
    },
    "kernelspec": {
      "name": "python3",
      "display_name": "Python 3"
    },
    "language_info": {
      "name": "python"
    }
  },
  "cells": [
    {
      "cell_type": "code",
      "execution_count": 2,
      "metadata": {
        "colab": {
          "base_uri": "https://localhost:8080/"
        },
        "id": "u0WEYwh6r64K",
        "outputId": "88ccf2f0-0d7d-404c-f8ea-f520ecb7fd48"
      },
      "outputs": [
        {
          "output_type": "stream",
          "name": "stdout",
          "text": [
            "hellow world\n"
          ]
        }
      ],
      "source": [
        "#STATEMENTS EXAMPLE\n",
        "print(\"hellow world\")"
      ]
    },
    {
      "cell_type": "code",
      "source": [
        "#VARIABLES EXAMPLE\n",
        "name = \"kunal singh\""
      ],
      "metadata": {
        "id": "FhjOdXutsFdn"
      },
      "execution_count": 10,
      "outputs": []
    },
    {
      "cell_type": "code",
      "source": [
        "#input example\n",
        "name = input (\"enter your name\")"
      ],
      "metadata": {
        "colab": {
          "base_uri": "https://localhost:8080/"
        },
        "id": "pCZKopvPuFZX",
        "outputId": "61e241ec-01f5-4beb-d8d0-cef7b9794523"
      },
      "execution_count": 11,
      "outputs": [
        {
          "name": "stdout",
          "output_type": "stream",
          "text": [
            "enter your name kunal singh\n"
          ]
        }
      ]
    },
    {
      "cell_type": "code",
      "source": [
        "#PRINT EXAMPLE\n",
        "print(\"HELLO AAYU\")"
      ],
      "metadata": {
        "colab": {
          "base_uri": "https://localhost:8080/"
        },
        "id": "OPczmtjKusUm",
        "outputId": "f58d0748-fac6-4b1a-a447-ae39c8c0a4de"
      },
      "execution_count": 12,
      "outputs": [
        {
          "output_type": "stream",
          "name": "stdout",
          "text": [
            "HELLO AAYU\n"
          ]
        }
      ]
    },
    {
      "cell_type": "code",
      "source": [
        "#COMMENTS EXAMPLE\n",
        "\n",
        "#1.single line AND MULTI LINE\n",
        "\n",
        "#i like the way of teaching pw mentors.\n",
        "\n",
        "#THIS IS\n",
        "#MULTI - LINE COMM...\n",
        "#USING MULTIPUL LINES\n",
        "\n"
      ],
      "metadata": {
        "id": "aH4AGi0-vjB5"
      },
      "execution_count": 13,
      "outputs": []
    }
  ]
}